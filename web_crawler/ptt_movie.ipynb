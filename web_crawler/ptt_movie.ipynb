{
 "cells": [
  {
   "cell_type": "code",
   "execution_count": 6,
   "metadata": {},
   "outputs": [],
   "source": [
    "import requests\n",
    "from bs4 import BeautifulSoup\n",
    "import io\n",
    "import time"
   ]
  },
  {
   "cell_type": "code",
   "execution_count": 144,
   "metadata": {},
   "outputs": [
    {
     "name": "stdout",
     "output_type": "stream",
     "text": [
      "\n",
      "[新聞] 天若有情30週年 捧紅吳倩蓮2007年全面隱退\n",
      " https://www.ptt.cc/bbs/movie/M.1592369025.A.BFB.html\n",
      "\n",
      "[討論] 為什麼man in black(MIB)還沒被進攻？\n",
      " https://www.ptt.cc/bbs/movie/M.1592369905.A.237.html\n",
      "\n",
      "[新聞] 《遇見街貓BOB》14歲橘貓辭世！伴主人戒\n",
      " https://www.ptt.cc/bbs/movie/M.1592374474.A.C37.html\n",
      "\n",
      "[公告] 板規 2020/03/01 (增加14.1)\n",
      " https://www.ptt.cc/bbs/movie/M.1559611458.A.DCA.html\n",
      "\n",
      "[公告] 板規新增每日發文上限規定\n",
      " https://www.ptt.cc/bbs/movie/M.1565855832.A.0A7.html\n",
      "\n",
      "[公告] 關於跑步哥\n",
      " https://www.ptt.cc/bbs/movie/M.1578684521.A.1B8.html\n",
      "\n",
      "[情報] 近期院線預計重映片單\n",
      " https://www.ptt.cc/bbs/movie/M.1589355894.A.CDD.html\n",
      "\n",
      "[公告] 板主選舉\n",
      " https://www.ptt.cc/bbs/movie/M.1590296462.A.895.html\n"
     ]
    }
   ],
   "source": [
    "url = \"https://www.ptt.cc/bbs/movie/index.html\"\n",
    "response = requests.get(url)\n",
    "soup = BeautifulSoup(response.text, \"html.parser\")\n",
    "results = soup.select('div.title')\n",
    "\n",
    "for item in results:\n",
    "    item_a = item.select_one(\"a\")\n",
    "    if item_a:\n",
    "        title = item.text\n",
    "        title_href = 'https://www.ptt.cc' + item_a.get('href')\n",
    "        print(title, title_href)\n",
    "for page in range(15000):\n",
    "    response = requests.get(url)\n",
    "    soup = BeautifulSoup(response.text, \"html.parser\")\n",
    "    btn = soup.select('div.btn-group > a')\n",
    "    up_page_btn_href = btn[3]['href']\n",
    "    next_page_url = 'https://www.ptt.cc' + up_page_btn_href\n",
    "    url = next_page_url\n",
    "    get_info(url)\n"
   ]
  },
  {
   "cell_type": "code",
   "execution_count": 134,
   "metadata": {},
   "outputs": [
    {
     "name": "stdout",
     "output_type": "stream",
     "text": [
      "https://www.ptt.cc/bbs/movie/index9015.html\n"
     ]
    }
   ],
   "source": [
    "btn = soup.select('div.btn-group > a')\n",
    "up_page_btn_href = btn[3]['href']\n",
    "next_page_url = 'https://www.ptt.cc' + up_page_btn_href\n",
    "print(next_page_url)"
   ]
  },
  {
   "cell_type": "code",
   "execution_count": 194,
   "metadata": {},
   "outputs": [
    {
     "name": "stdout",
     "output_type": "stream",
     "text": [
      "[好雷] 金魚俱樂部 Die Goldfische  https://www.ptt.cc/bbs/movie/M.1592342329.A.8CA.html\n",
      "[好雷] 超完美社區 Vivarium https://www.ptt.cc/bbs/movie/M.1592351742.A.F76.html\n",
      "[好雷] 阿比與阿弟勇闖鬼門關 https://www.ptt.cc/bbs/movie/M.1592217889.A.528.html\n",
      "[好雷]《1/2的魔法》觀後心得  https://www.ptt.cc/bbs/movie/M.1592225085.A.D9A.html\n",
      "[好雷]《超完美社區》我們為什麼非得要選擇挖洞？  https://www.ptt.cc/bbs/movie/M.1592239508.A.D39.html\n",
      "[好雷] 摩比小子 Playmobil: The Movie (2019) https://www.ptt.cc/bbs/movie/M.1592253146.A.512.html\n",
      "[好雷]《絕命大平台》  https://www.ptt.cc/bbs/movie/M.1592275143.A.588.html\n"
     ]
    }
   ],
   "source": [
    "url = \"https://www.ptt.cc/bbs/movie/index.html\" \n",
    "nice_movie_list = []\n",
    "nice_movie_link_list = []\n",
    "normal_movie_list = []\n",
    "normal_movie_link_list = []\n",
    "bad_movie_list = []\n",
    "bad_movie_link_list = []\n",
    "\n",
    "\n",
    "def get_info(url):\n",
    "    response = requests.get(url)\n",
    "    soup = BeautifulSoup(response.text, \"html.parser\")\n",
    "    results = soup.select('div.title')\n",
    "    \n",
    "    for item in results:\n",
    "        item_a = item.select_one(\"a\")\n",
    "        if item_a:\n",
    "            \n",
    "            title = item.text\n",
    "            title_href = 'https://www.ptt.cc' + item_a.get('href')\n",
    "            title_fixed = title.replace(\"\\n\",\"\")\n",
    "            \n",
    "            if title_fixed[1:3] == '好雷':\n",
    "                nice_movie_list.append(title_fixed)\n",
    "                nice_movie_link_list.append(title_href)\n",
    "            elif title_fixed[1:3] == '普雷':\n",
    "                normal_movie_list.append(title_fixed)\n",
    "                normal_movie_link_list.append(title_href)\n",
    "            elif title_fixed[1:3] == '負雷':\n",
    "                bad_movie_list.append(title_fixed)\n",
    "                bad_movie_link_list.append(title_href)\n",
    "\n",
    "for page in range(3):\n",
    "    response = requests.get(url)\n",
    "    soup = BeautifulSoup(response.text, \"html.parser\")\n",
    "    btn = soup.select('div.btn-group > a')\n",
    "    up_page_btn_href = btn[3]['href']\n",
    "    next_page_url = 'https://www.ptt.cc' + up_page_btn_href\n",
    "    url = next_page_url\n",
    "    get_info(url)\n",
    "\n",
    "for num in range(len(nice_movie_list)):\n",
    "    print(nice_movie_list[num],nice_movie_link_list[num])\n",
    "    num += num"
   ]
  },
  {
   "cell_type": "code",
   "execution_count": 162,
   "metadata": {},
   "outputs": [
    {
     "name": "stdout",
     "output_type": "stream",
     "text": [
      "新聞\n"
     ]
    }
   ],
   "source": [
    "line = \"[新聞]\"\n",
    "print(line[1:-1])"
   ]
  },
  {
   "cell_type": "code",
   "execution_count": null,
   "metadata": {},
   "outputs": [],
   "source": []
  }
 ],
 "metadata": {
  "kernelspec": {
   "display_name": "Python 3",
   "language": "python",
   "name": "python3"
  },
  "language_info": {
   "codemirror_mode": {
    "name": "ipython",
    "version": 3
   },
   "file_extension": ".py",
   "mimetype": "text/x-python",
   "name": "python",
   "nbconvert_exporter": "python",
   "pygments_lexer": "ipython3",
   "version": "3.8.2"
  }
 },
 "nbformat": 4,
 "nbformat_minor": 4
}
