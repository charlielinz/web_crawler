{
 "cells": [
  {
   "cell_type": "code",
   "execution_count": 6,
   "metadata": {},
   "outputs": [],
   "source": [
    "import requests\n",
    "from bs4 import BeautifulSoup\n",
    "import io\n",
    "import time"
   ]
  },
  {
   "cell_type": "code",
   "execution_count": 144,
   "metadata": {},
   "outputs": [
    {
     "name": "stdout",
     "output_type": "stream",
     "text": [
      "\n",
      "[新聞] 天若有情30週年 捧紅吳倩蓮2007年全面隱退\n",
      " https://www.ptt.cc/bbs/movie/M.1592369025.A.BFB.html\n",
      "\n",
      "[討論] 為什麼man in black(MIB)還沒被進攻？\n",
      " https://www.ptt.cc/bbs/movie/M.1592369905.A.237.html\n",
      "\n",
      "[新聞] 《遇見街貓BOB》14歲橘貓辭世！伴主人戒\n",
      " https://www.ptt.cc/bbs/movie/M.1592374474.A.C37.html\n",
      "\n",
      "[公告] 板規 2020/03/01 (增加14.1)\n",
      " https://www.ptt.cc/bbs/movie/M.1559611458.A.DCA.html\n",
      "\n",
      "[公告] 板規新增每日發文上限規定\n",
      " https://www.ptt.cc/bbs/movie/M.1565855832.A.0A7.html\n",
      "\n",
      "[公告] 關於跑步哥\n",
      " https://www.ptt.cc/bbs/movie/M.1578684521.A.1B8.html\n",
      "\n",
      "[情報] 近期院線預計重映片單\n",
      " https://www.ptt.cc/bbs/movie/M.1589355894.A.CDD.html\n",
      "\n",
      "[公告] 板主選舉\n",
      " https://www.ptt.cc/bbs/movie/M.1590296462.A.895.html\n"
     ]
    }
   ],
   "source": [
    "url = \"https://www.ptt.cc/bbs/movie/index.html\"\n",
    "response = requests.get(url)\n",
    "soup = BeautifulSoup(response.text, \"html.parser\")\n",
    "results = soup.select('div.title')\n",
    "\n",
    "for item in results:\n",
    "    item_a = item.select_one(\"a\")\n",
    "    if item_a:\n",
    "        title = item.text\n",
    "        title_href = 'https://www.ptt.cc' + item_a.get('href')\n",
    "        print(title, title_href)\n",
    "for page in range(15000):\n",
    "    response = requests.get(url)\n",
    "    soup = BeautifulSoup(response.text, \"html.parser\")\n",
    "    btn = soup.select('div.btn-group > a')\n",
    "    up_page_btn_href = btn[3]['href']\n",
    "    next_page_url = 'https://www.ptt.cc' + up_page_btn_href\n",
    "    url = next_page_url\n",
    "    get_info(url)\n"
   ]
  },
  {
   "cell_type": "code",
   "execution_count": 134,
   "metadata": {},
   "outputs": [
    {
     "name": "stdout",
     "output_type": "stream",
     "text": [
      "https://www.ptt.cc/bbs/movie/index9015.html\n"
     ]
    }
   ],
   "source": [
    "btn = soup.select('div.btn-group > a')\n",
    "up_page_btn_href = btn[3]['href']\n",
    "next_page_url = 'https://www.ptt.cc' + up_page_btn_href\n",
    "print(next_page_url)"
   ]
  },
  {
   "cell_type": "code",
   "execution_count": 157,
   "metadata": {},
   "outputs": [
    {
     "name": "stdout",
     "output_type": "stream",
     "text": [
      "['\\n[新聞] 天若有情30週年 捧紅吳倩蓮2007年全面隱退\\nhttps://www.ptt.cc/bbs/movie/M.1592369025.A.BFB.html', '\\n[討論] 為什麼man in black(MIB)還沒被進攻？\\nhttps://www.ptt.cc/bbs/movie/M.1592369905.A.237.html', '\\n[新聞] 《遇見街貓BOB》14歲橘貓辭世！伴主人戒\\nhttps://www.ptt.cc/bbs/movie/M.1592374474.A.C37.html', '\\n[好雷] 數碼寶貝 last evolution \\nhttps://www.ptt.cc/bbs/movie/M.1592376144.A.5E8.html', '\\n[公告] 板規 2020/03/01 (增加14.1)\\nhttps://www.ptt.cc/bbs/movie/M.1559611458.A.DCA.html', '\\n[公告] 板規新增每日發文上限規定\\nhttps://www.ptt.cc/bbs/movie/M.1565855832.A.0A7.html', '\\n[公告] 關於跑步哥\\nhttps://www.ptt.cc/bbs/movie/M.1578684521.A.1B8.html', '\\n[情報] 近期院線預計重映片單\\nhttps://www.ptt.cc/bbs/movie/M.1589355894.A.CDD.html', '\\n[公告] 板主選舉\\nhttps://www.ptt.cc/bbs/movie/M.1590296462.A.895.html']\n"
     ]
    }
   ],
   "source": [
    "url = \"https://www.ptt.cc/bbs/movie/index.html\"\n",
    "# def get_info(url):\n",
    "response = requests.get(url)\n",
    "soup = BeautifulSoup(response.text, \"html.parser\")\n",
    "results = soup.select('div.title')\n",
    "article_list = []\n",
    "for item in results:\n",
    "    item_a = item.select_one(\"a\")\n",
    "    if item_a:\n",
    "        title = item.text\n",
    "        title_href = 'https://www.ptt.cc' + item_a.get('href')\n",
    "        article_list.append(title + title_href)\n",
    "\n",
    "print(article_list)\n",
    "\n"
   ]
  },
  {
   "cell_type": "code",
   "execution_count": null,
   "metadata": {},
   "outputs": [],
   "source": []
  }
 ],
 "metadata": {
  "kernelspec": {
   "display_name": "Python 3",
   "language": "python",
   "name": "python3"
  },
  "language_info": {
   "codemirror_mode": {
    "name": "ipython",
    "version": 3
   },
   "file_extension": ".py",
   "mimetype": "text/x-python",
   "name": "python",
   "nbconvert_exporter": "python",
   "pygments_lexer": "ipython3",
   "version": "3.8.2"
  }
 },
 "nbformat": 4,
 "nbformat_minor": 4
}
