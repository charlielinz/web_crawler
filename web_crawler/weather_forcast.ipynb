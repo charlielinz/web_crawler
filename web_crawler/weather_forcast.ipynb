{
 "cells": [
  {
   "cell_type": "code",
   "execution_count": 6,
   "metadata": {},
   "outputs": [],
   "source": [
    "import requests\n",
    "from bs4 import BeautifulSoup\n",
    "import io\n",
    "import time"
   ]
  },
  {
   "cell_type": "code",
   "execution_count": 125,
   "metadata": {},
   "outputs": [
    {
     "name": "stdout",
     "output_type": "stream",
     "text": [
      "\n",
      "Re: [討論] TDK的BUG\n",
      "\n",
      "\n",
      "[分享] 《冰雪奇緣》鋼琴改編音樂\n",
      "\n",
      "\n",
      "[情報]《藍色恐懼：數位修復版》台灣正式預告 \n",
      "\n",
      "\n",
      "[負雷]  末代皇帝-情緒毫無著力點\n",
      "\n",
      "\n",
      "[討論] DC 將在 8/23 舉辦線上大會\n",
      "\n",
      "\n",
      "[問片] 已婚女教授婚外情\n",
      "\n",
      "\n",
      "[公告] sonans 水桶\n",
      "\n",
      "\n",
      "[問片] 描寫書中故事的電影\n",
      "\n",
      "\n",
      "[請益] 請問噤界是在netflix下片？\n",
      "\n",
      "\n",
      "[問片] 搭公車被人口販子綁架\n",
      "\n",
      "\n",
      "[請益] 西遊伏妖篇的一個疑問（雷）\n",
      "\n",
      "\n",
      "[問片] 三個老男人 在槍戰中結束劇情的片\n",
      "\n",
      "\n",
      "[板主警告] movie 板 kai3368\n",
      "\n",
      "\n",
      "[新聞] 綱要正式曝光！《異形5》是現在進行式！\n",
      "\n",
      "\n",
      "[好雷] 金魚俱樂部 Die Goldfische \n",
      "\n",
      "\n",
      "[好雷] 超完美社區 Vivarium\n",
      "\n",
      "\n",
      "[請益] 霹靂嬌娃2019 查理\n",
      "\n",
      "\n",
      "[情報] 坎城影展原要同時納入兩部 McQueen 新片至主競賽\n",
      "\n",
      "\n",
      "[公告] 板規 2020/03/01 (增加14.1)\n",
      "\n",
      "\n",
      "[公告] 板規新增每日發文上限規定\n",
      "\n",
      "\n",
      "[公告] 關於跑步哥\n",
      "\n",
      "\n",
      "[情報] 近期院線預計重映片單\n",
      "\n",
      "\n",
      "[公告] 板主選舉\n",
      "\n"
     ]
    }
   ],
   "source": [
    "url = \"https://www.ptt.cc/bbs/movie/index.html\"\n",
    "response = requests.get(url)\n",
    "response.encoding = \"utf-8\"\n",
    "soup = BeautifulSoup(response.text, \"html.parser\")\n",
    "results = soup.select('div.title')\n",
    "\n",
    "for item in results:\n",
    "    item_a = item.select_one(\"a\")\n",
    "    if not item_a:\n",
    "        continue\n",
    "    else:\n",
    "        item_href = item_a.get(\"href\")\n",
    "    print(item.text)\n",
    "  \n"
   ]
  },
  {
   "cell_type": "code",
   "execution_count": null,
   "metadata": {},
   "outputs": [],
   "source": []
  }
 ],
 "metadata": {
  "kernelspec": {
   "display_name": "Python 3",
   "language": "python",
   "name": "python3"
  },
  "language_info": {
   "codemirror_mode": {
    "name": "ipython",
    "version": 3
   },
   "file_extension": ".py",
   "mimetype": "text/x-python",
   "name": "python",
   "nbconvert_exporter": "python",
   "pygments_lexer": "ipython3",
   "version": "3.8.2"
  }
 },
 "nbformat": 4,
 "nbformat_minor": 4
}
